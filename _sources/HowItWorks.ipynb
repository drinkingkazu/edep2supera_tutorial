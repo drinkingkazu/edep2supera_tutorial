{
 "cells": [
  {
   "cell_type": "markdown",
   "id": "bf755d98",
   "metadata": {},
   "source": [
    "# How it works\n",
    "\n",
    "In this article we go over how `edep2supera` works focusing on 5 points below.\n",
    "1. Instantiate and configure the module\n",
    "2. Prepare the input\n",
    "3. Execute the main functions\n",
    "4. Interpreting the input\n",
    "5. Interpreting the output\n",
    "\n",
    "The first three items show the flow of processes to run `Supera` with `edep-sim` files as input. Then the last two items demonstrate how a user can access the input to and the output from `Supera`.\n",
    "\n",
    "## Instantiate and Configure\n",
    "\n",
    "Import `edep2supera` as well as an example module."
   ]
  },
  {
   "cell_type": "code",
   "execution_count": 1,
   "id": "f60835b0",
   "metadata": {},
   "outputs": [
    {
     "name": "stdout",
     "output_type": "stream",
     "text": [
      "Welcome to JupyROOT 6.22/09\n"
     ]
    }
   ],
   "source": [
    "import edep2supera\n",
    "from edep2supera import example"
   ]
  },
  {
   "cell_type": "markdown",
   "id": "27640ef2",
   "metadata": {},
   "source": [
    "Instantiate and configure `SuperaDriver` for execution of `edep2supera` main functions."
   ]
  },
  {
   "cell_type": "code",
   "execution_count": 2,
   "id": "9abfb69c",
   "metadata": {},
   "outputs": [],
   "source": [
    "# Instantiate\n",
    "e2s_driver = edep2supera.edep2supera.SuperaDriver()\n",
    "\n",
    "# Configure the driver\n",
    "cfg = example.get_config('edep2supera')\n",
    "e2s_driver.Configure(\"edep2supera\",cfg)\n",
    "\n",
    "# Configure the bounding box algorithm\n",
    "cfg = example.get_config('bbox')\n",
    "e2s_driver.ConfigureBBoxAlgorithm(\"BBoxInteraction\", cfg)\n",
    "\n",
    "# Configure the label creation algorithm\n",
    "cfg = example.get_config('label')\n",
    "e2s_driver.ConfigureLabelAlgorithm(\"LArTPCMLReco3D\", cfg)"
   ]
  },
  {
   "cell_type": "markdown",
   "id": "bb3e4404",
   "metadata": {},
   "source": [
    "What's going on?\n",
    "1. `SuperaDriver` is the _driver_ of executing main functions of `edep2supera`\n",
    "    - A technical detail: it is a wrapper (i.e. C++ inheritance) of `supera::Driver` defined in `SuperaAtomic`.\n",
    "2. `SuperaDriver` needs three configurations including\n",
    "    - one for itself (`SuperaDriver.Configure`), and two algorithms:\n",
    "    - one for creating the meta data of the 3D image volume to be recorded\n",
    "    - another for interpreting the input and creating necessary information to optimize `lartpc_mlreco3d`\n",
    "3. Configuration is done by passing a set of parameters. Individual parameter is stored as a key-value pair. For instance, \"DeltaSize\" (key) and \"3\" (value). `SuperaDriver` accepts these parameters stored in a container of a type `std::map<string,string>`. \n",
    "    - In the above, we use `example` module that can provide example configurations for this tutorial.\n",
    "\n",
    "We don't go over the full details of the configuration parameters nor the details of the algorithms. For those, refer to the documentation of `SuperaAtomic`. We show how to dump the content for the `SuperaDriver` configuration below."
   ]
  },
  {
   "cell_type": "code",
   "execution_count": 3,
   "id": "9332c302",
   "metadata": {},
   "outputs": [
    {
     "name": "stdout",
     "output_type": "stream",
     "text": [
      "key: ActiveDetectors\n",
      "   - value: [TPCActive_shape]\n",
      "\n",
      "key: LogLevel\n",
      "   - value: WARNING\n",
      "\n"
     ]
    }
   ],
   "source": [
    "cfg = example.get_config('edep2supera')\n",
    "\n",
    "for key,val in cfg:\n",
    "    print('key: %s\\n   - value: %s\\n' % (key,val))"
   ]
  },
  {
   "cell_type": "markdown",
   "id": "9824fad6",
   "metadata": {},
   "source": [
    "## Reading and Preparing Input\n",
    "\n",
    "Download an example dataset for this tutorial."
   ]
  },
  {
   "cell_type": "code",
   "execution_count": 4,
   "id": "7575c9c4",
   "metadata": {},
   "outputs": [
    {
     "name": "stdout",
     "output_type": "stream",
     "text": [
      "--2022-11-14 10:53:11--  https://web.stanford.edu/~kterao/edep-sim-example.root\r\n",
      "Resolving web.stanford.edu (web.stanford.edu)... 171.67.215.200, 2607:f6d0:0:925a::ab43:d7c8\r\n",
      "Connecting to web.stanford.edu (web.stanford.edu)|171.67.215.200|:443... connected.\r\n"
     ]
    },
    {
     "name": "stdout",
     "output_type": "stream",
     "text": [
      "HTTP request sent, awaiting response... "
     ]
    },
    {
     "name": "stdout",
     "output_type": "stream",
     "text": [
      "200 OK\r\n",
      "Length: 6604072 (6.3M)\r\n"
     ]
    },
    {
     "name": "stdout",
     "output_type": "stream",
     "text": [
      "Saving to: 'edep-sim-example.root.2'\r\n",
      "\r\n",
      "\r",
      "edep-sim-example.ro   0%[                    ]       0  --.-KB/s               "
     ]
    },
    {
     "name": "stdout",
     "output_type": "stream",
     "text": [
      "\r",
      "edep-sim-example.ro   8%[>                   ] 552.00K  2.63MB/s               "
     ]
    },
    {
     "name": "stdout",
     "output_type": "stream",
     "text": [
      "\r",
      "edep-sim-example.ro  24%[===>                ]   1.52M  3.74MB/s               "
     ]
    },
    {
     "name": "stdout",
     "output_type": "stream",
     "text": [
      "\r",
      "edep-sim-example.ro  40%[=======>            ]   2.52M  4.15MB/s               "
     ]
    },
    {
     "name": "stdout",
     "output_type": "stream",
     "text": [
      "\r",
      "edep-sim-example.ro  62%[===========>        ]   3.91M  4.81MB/s               "
     ]
    },
    {
     "name": "stdout",
     "output_type": "stream",
     "text": [
      "\r",
      "edep-sim-example.ro  87%[================>   ]   5.51M  5.41MB/s               "
     ]
    },
    {
     "name": "stdout",
     "output_type": "stream",
     "text": [
      "\r",
      "edep-sim-example.ro 100%[===================>]   6.30M  5.65MB/s    in 1.1s    \r\n",
      "\r\n",
      "2022-11-14 10:53:13 (5.65 MB/s) - 'edep-sim-example.root.2' saved [6604072/6604072]\r\n",
      "\r\n"
     ]
    }
   ],
   "source": [
    "!wget https://web.stanford.edu/~kterao/edep-sim-example.root"
   ]
  },
  {
   "cell_type": "markdown",
   "id": "57b9e6c4",
   "metadata": {},
   "source": [
    "This file is generated by (=is an output of) `edep-sim`, which can be easily accessible through `ROOT.TChain`. If there are multiple input files, they can be sequentially added using `TChain.Add` function. To run Supera, we need to:\n",
    "1. Read one event input from the `edep-sim` output file\n",
    "2. Interpret `edep-sim` data and generate a formatted input data to run `Supera`\n",
    "    * This (= being an interface to `edep-sim` file) is exactly why `edep2supera` exists."
   ]
  },
  {
   "cell_type": "code",
   "execution_count": 5,
   "id": "20197450",
   "metadata": {},
   "outputs": [
    {
     "ename": "AttributeError",
     "evalue": "'TChain' object has no attribute 'Event'",
     "output_type": "error",
     "traceback": [
      "\u001b[0;31m---------------------------------------------------------------------------\u001b[0m",
      "\u001b[0;31mAttributeError\u001b[0m                            Traceback (most recent call last)",
      "\u001b[0;32m/tmp/ipykernel_38953/2807589348.py\u001b[0m in \u001b[0;36m<module>\u001b[0;34m\u001b[0m\n\u001b[1;32m      8\u001b[0m \u001b[0;34m\u001b[0m\u001b[0m\n\u001b[1;32m      9\u001b[0m \u001b[0;31m# Interpret the edep-sim input by handing TG4Event containing all info for this sample.\u001b[0m\u001b[0;34m\u001b[0m\u001b[0;34m\u001b[0m\u001b[0;34m\u001b[0m\u001b[0m\n\u001b[0;32m---> 10\u001b[0;31m \u001b[0minput_data\u001b[0m \u001b[0;34m=\u001b[0m \u001b[0me2s_driver\u001b[0m\u001b[0;34m.\u001b[0m\u001b[0mReadEvent\u001b[0m\u001b[0;34m(\u001b[0m\u001b[0mch\u001b[0m\u001b[0;34m.\u001b[0m\u001b[0mEvent\u001b[0m\u001b[0;34m)\u001b[0m\u001b[0;34m\u001b[0m\u001b[0;34m\u001b[0m\u001b[0m\n\u001b[0m",
      "\u001b[0;31mAttributeError\u001b[0m: 'TChain' object has no attribute 'Event'"
     ]
    },
    {
     "name": "stderr",
     "output_type": "stream",
     "text": [
      "Error in <TFile::TFile>: file shower.root does not exist\n",
      "Error in <TFile::TFile>: file shower.root does not exist\n",
      "Error in <TFile::TFile>: file shower.root does not exist\n",
      "Error in <TFile::TFile>: file shower.root does not exist\n",
      "Error in <TFile::TFile>: file shower.root does not exist\n"
     ]
    }
   ],
   "source": [
    "# Use TChain to read edep-sim\n",
    "from ROOT import TChain \n",
    "ch=TChain(\"EDepSimEvents\")\n",
    "ch.AddFile('shower.root')\n",
    "\n",
    "# Access the first (0-th) input data sample\n",
    "ch.GetEntry(0)\n",
    "\n",
    "# Interpret the edep-sim input by handing TG4Event containing all info for this sample.\n",
    "input_data = e2s_driver.ReadEvent(ch.Event)"
   ]
  },
  {
   "cell_type": "markdown",
   "id": "47a71054",
   "metadata": {},
   "source": [
    "## Running Supera\n",
    "... is done over two steps. \n",
    "* First, `GenerateImageMeta` generates an image meta data.\n",
    "* Second, `GenerateLabel` generates the main output, infomration necessary for optimizing `lartpc_mlreco3d`."
   ]
  },
  {
   "cell_type": "code",
   "execution_count": 6,
   "id": "33bed888",
   "metadata": {},
   "outputs": [
    {
     "ename": "NameError",
     "evalue": "name 'input_data' is not defined",
     "output_type": "error",
     "traceback": [
      "\u001b[0;31m---------------------------------------------------------------------------\u001b[0m",
      "\u001b[0;31mNameError\u001b[0m                                 Traceback (most recent call last)",
      "\u001b[0;32m/tmp/ipykernel_38953/2016153090.py\u001b[0m in \u001b[0;36m<module>\u001b[0;34m\u001b[0m\n\u001b[1;32m      1\u001b[0m \u001b[0;31m# Generate image meta data\u001b[0m\u001b[0;34m\u001b[0m\u001b[0;34m\u001b[0m\u001b[0;34m\u001b[0m\u001b[0m\n\u001b[0;32m----> 2\u001b[0;31m \u001b[0me2s_driver\u001b[0m\u001b[0;34m.\u001b[0m\u001b[0mGenerateImageMeta\u001b[0m\u001b[0;34m(\u001b[0m\u001b[0minput_data\u001b[0m\u001b[0;34m)\u001b[0m\u001b[0;34m\u001b[0m\u001b[0;34m\u001b[0m\u001b[0m\n\u001b[0m\u001b[1;32m      3\u001b[0m \u001b[0;34m\u001b[0m\u001b[0m\n\u001b[1;32m      4\u001b[0m \u001b[0;31m# Generate infomration necessary for lartpc_mlreco3d\u001b[0m\u001b[0;34m\u001b[0m\u001b[0;34m\u001b[0m\u001b[0;34m\u001b[0m\u001b[0m\n\u001b[1;32m      5\u001b[0m \u001b[0me2s_driver\u001b[0m\u001b[0;34m.\u001b[0m\u001b[0mGenerateLabel\u001b[0m\u001b[0;34m(\u001b[0m\u001b[0minput_data\u001b[0m\u001b[0;34m)\u001b[0m\u001b[0;34m\u001b[0m\u001b[0;34m\u001b[0m\u001b[0m\n",
      "\u001b[0;31mNameError\u001b[0m: name 'input_data' is not defined"
     ]
    }
   ],
   "source": [
    "# Generate image meta data\n",
    "e2s_driver.GenerateImageMeta(input_data)\n",
    "\n",
    "# Generate infomration necessary for lartpc_mlreco3d\n",
    "e2s_driver.GenerateLabel(input_data)\n",
    "\n",
    "# Access the image meta and output of Supera\n",
    "meta  = e2s_driver.Meta()\n",
    "label = e2s_driver.Label()"
   ]
  },
  {
   "cell_type": "markdown",
   "id": "4d1a9b4f",
   "metadata": {},
   "source": [
    "## Accessing and Interpreting the Input\n",
    "Let's take a brief look at the `input_data` which is of `supera::EventInput` type (C++ class defined in `SuperaAtomic`). In short, `input_data` is an array of particle information."
   ]
  },
  {
   "cell_type": "code",
   "execution_count": 7,
   "id": "9a325279",
   "metadata": {},
   "outputs": [
    {
     "ename": "NameError",
     "evalue": "name 'input_data' is not defined",
     "output_type": "error",
     "traceback": [
      "\u001b[0;31m---------------------------------------------------------------------------\u001b[0m",
      "\u001b[0;31mNameError\u001b[0m                                 Traceback (most recent call last)",
      "\u001b[0;32m/tmp/ipykernel_38953/881766402.py\u001b[0m in \u001b[0;36m<module>\u001b[0;34m\u001b[0m\n\u001b[0;32m----> 1\u001b[0;31m \u001b[0mprint\u001b[0m\u001b[0;34m(\u001b[0m\u001b[0;34m'Input contains'\u001b[0m\u001b[0;34m,\u001b[0m\u001b[0minput_data\u001b[0m\u001b[0;34m.\u001b[0m\u001b[0msize\u001b[0m\u001b[0;34m(\u001b[0m\u001b[0;34m)\u001b[0m\u001b[0;34m,\u001b[0m\u001b[0;34m'particles'\u001b[0m\u001b[0;34m)\u001b[0m\u001b[0;34m\u001b[0m\u001b[0;34m\u001b[0m\u001b[0m\n\u001b[0m",
      "\u001b[0;31mNameError\u001b[0m: name 'input_data' is not defined"
     ]
    }
   ],
   "source": [
    "print('Input contains',input_data.size(),'particles')"
   ]
  },
  {
   "cell_type": "markdown",
   "id": "b9647a74",
   "metadata": {},
   "source": [
    "Each particle has two essential data elements:\n",
    "1. Information about this particle\n",
    "2. A list of energy deposition 3D points with energy deposited and dE/dX at each point\n",
    "\n",
    "Let's access the former first."
   ]
  },
  {
   "cell_type": "code",
   "execution_count": 8,
   "id": "c0c638bb",
   "metadata": {},
   "outputs": [
    {
     "ename": "NameError",
     "evalue": "name 'input_data' is not defined",
     "output_type": "error",
     "traceback": [
      "\u001b[0;31m---------------------------------------------------------------------------\u001b[0m",
      "\u001b[0;31mNameError\u001b[0m                                 Traceback (most recent call last)",
      "\u001b[0;32m/tmp/ipykernel_38953/651147691.py\u001b[0m in \u001b[0;36m<module>\u001b[0;34m\u001b[0m\n\u001b[1;32m      1\u001b[0m \u001b[0;31m# Print the track ID and PDG code for the first 10 particles stored in the list\u001b[0m\u001b[0;34m\u001b[0m\u001b[0;34m\u001b[0m\u001b[0;34m\u001b[0m\u001b[0m\n\u001b[0;32m----> 2\u001b[0;31m \u001b[0;32mfor\u001b[0m \u001b[0mi\u001b[0m\u001b[0;34m,\u001b[0m \u001b[0mp\u001b[0m \u001b[0;32min\u001b[0m \u001b[0menumerate\u001b[0m\u001b[0;34m(\u001b[0m\u001b[0minput_data\u001b[0m\u001b[0;34m)\u001b[0m\u001b[0;34m:\u001b[0m\u001b[0;34m\u001b[0m\u001b[0;34m\u001b[0m\u001b[0m\n\u001b[0m\u001b[1;32m      3\u001b[0m     \u001b[0;32mif\u001b[0m \u001b[0mi\u001b[0m \u001b[0;34m==\u001b[0m \u001b[0;36m10\u001b[0m\u001b[0;34m:\u001b[0m \u001b[0;32mbreak\u001b[0m\u001b[0;34m\u001b[0m\u001b[0;34m\u001b[0m\u001b[0m\n\u001b[1;32m      4\u001b[0m     \u001b[0mprint\u001b[0m\u001b[0;34m(\u001b[0m\u001b[0;34m'Index'\u001b[0m\u001b[0;34m,\u001b[0m\u001b[0mi\u001b[0m\u001b[0;34m,\u001b[0m\u001b[0;34m'Track ID'\u001b[0m\u001b[0;34m,\u001b[0m\u001b[0mp\u001b[0m\u001b[0;34m.\u001b[0m\u001b[0mpart\u001b[0m\u001b[0;34m.\u001b[0m\u001b[0mtrackid\u001b[0m\u001b[0;34m,\u001b[0m\u001b[0;34m'PDG'\u001b[0m\u001b[0;34m,\u001b[0m\u001b[0mp\u001b[0m\u001b[0;34m.\u001b[0m\u001b[0mpart\u001b[0m\u001b[0;34m.\u001b[0m\u001b[0mpdg\u001b[0m\u001b[0;34m)\u001b[0m\u001b[0;34m\u001b[0m\u001b[0;34m\u001b[0m\u001b[0m\n\u001b[1;32m      5\u001b[0m \u001b[0;34m\u001b[0m\u001b[0m\n",
      "\u001b[0;31mNameError\u001b[0m: name 'input_data' is not defined"
     ]
    }
   ],
   "source": [
    "# Print the track ID and PDG code for the first 10 particles stored in the list\n",
    "for i, p in enumerate(input_data):\n",
    "    if i == 10: break\n",
    "    print('Index',i,'Track ID',p.part.trackid,'PDG',p.part.pdg)\n",
    "    \n",
    "# Dump the details of the first particle\n",
    "print('\\nDumping information about the first particle...\\n')\n",
    "print(input_data[0].part.dump())"
   ]
  },
  {
   "cell_type": "markdown",
   "id": "ef48b45f",
   "metadata": {},
   "source": [
    "Note that not all information may be filled at this point, in particular various \"ID\" (except for Track ID which is aleady determined by the previous simulation step `edep-sim`). \n",
    "\n",
    "Next, let's access energy deposition points."
   ]
  },
  {
   "cell_type": "code",
   "execution_count": 9,
   "id": "833f8411",
   "metadata": {},
   "outputs": [
    {
     "ename": "NameError",
     "evalue": "name 'input_data' is not defined",
     "output_type": "error",
     "traceback": [
      "\u001b[0;31m---------------------------------------------------------------------------\u001b[0m",
      "\u001b[0;31mNameError\u001b[0m                                 Traceback (most recent call last)",
      "\u001b[0;32m/tmp/ipykernel_38953/3451068997.py\u001b[0m in \u001b[0;36m<module>\u001b[0;34m\u001b[0m\n\u001b[1;32m      2\u001b[0m \u001b[0;32mimport\u001b[0m \u001b[0mnumpy\u001b[0m \u001b[0;32mas\u001b[0m \u001b[0mnp\u001b[0m\u001b[0;34m\u001b[0m\u001b[0;34m\u001b[0m\u001b[0m\n\u001b[1;32m      3\u001b[0m \u001b[0;34m\u001b[0m\u001b[0m\n\u001b[0;32m----> 4\u001b[0;31m \u001b[0mparticle\u001b[0m \u001b[0;34m=\u001b[0m \u001b[0minput_data\u001b[0m\u001b[0;34m[\u001b[0m\u001b[0;36m0\u001b[0m\u001b[0;34m]\u001b[0m\u001b[0;34m\u001b[0m\u001b[0;34m\u001b[0m\u001b[0m\n\u001b[0m\u001b[1;32m      5\u001b[0m \u001b[0mprint\u001b[0m\u001b[0;34m(\u001b[0m\u001b[0;34m'There are'\u001b[0m\u001b[0;34m,\u001b[0m\u001b[0mparticle\u001b[0m\u001b[0;34m.\u001b[0m\u001b[0mpcloud\u001b[0m\u001b[0;34m.\u001b[0m\u001b[0msize\u001b[0m\u001b[0;34m(\u001b[0m\u001b[0;34m)\u001b[0m\u001b[0;34m,\u001b[0m\u001b[0;34m'points'\u001b[0m\u001b[0;34m)\u001b[0m\u001b[0;34m\u001b[0m\u001b[0;34m\u001b[0m\u001b[0m\n\u001b[1;32m      6\u001b[0m \u001b[0;34m\u001b[0m\u001b[0m\n",
      "\u001b[0;31mNameError\u001b[0m: name 'input_data' is not defined"
     ]
    }
   ],
   "source": [
    "import plotly.graph_objs as go\n",
    "import numpy as np\n",
    "\n",
    "particle = input_data[0]\n",
    "print('There are',particle.pcloud.size(),'points')\n",
    "\n",
    "# Create a list of points\n",
    "points = [[pt.x, pt.y, pt.z, pt.e, pt.dedx] for pt in particle.pcloud]\n",
    "# ... and turn that into a numpy array (so we can slice)\n",
    "points = np.array(points)\n",
    "\n",
    "# Create a scatter plot\n",
    "trace = go.Scatter3d(x=points[:,0], y=points[:,1], z=points[:,2],\n",
    "                     mode='markers',\n",
    "                     marker=dict(size=1, color=points[:,3], opacity=0.3),\n",
    "                    )\n",
    "fig = go.Figure(data=trace)\n",
    "fig.show()"
   ]
  },
  {
   "cell_type": "markdown",
   "id": "18420c01",
   "metadata": {},
   "source": [
    "... or plot all points togetehr"
   ]
  },
  {
   "cell_type": "code",
   "execution_count": 10,
   "id": "b2aafe1d",
   "metadata": {},
   "outputs": [
    {
     "ename": "NameError",
     "evalue": "name 'input_data' is not defined",
     "output_type": "error",
     "traceback": [
      "\u001b[0;31m---------------------------------------------------------------------------\u001b[0m",
      "\u001b[0;31mNameError\u001b[0m                                 Traceback (most recent call last)",
      "\u001b[0;32m/tmp/ipykernel_38953/2237358194.py\u001b[0m in \u001b[0;36m<module>\u001b[0;34m\u001b[0m\n\u001b[1;32m      1\u001b[0m \u001b[0mpoints_array\u001b[0m \u001b[0;34m=\u001b[0m \u001b[0;34m[\u001b[0m\u001b[0;34m]\u001b[0m\u001b[0;34m\u001b[0m\u001b[0;34m\u001b[0m\u001b[0m\n\u001b[1;32m      2\u001b[0m \u001b[0;34m\u001b[0m\u001b[0m\n\u001b[0;32m----> 3\u001b[0;31m \u001b[0;32mfor\u001b[0m \u001b[0mparticle\u001b[0m \u001b[0;32min\u001b[0m \u001b[0minput_data\u001b[0m\u001b[0;34m:\u001b[0m\u001b[0;34m\u001b[0m\u001b[0;34m\u001b[0m\u001b[0m\n\u001b[0m\u001b[1;32m      4\u001b[0m \u001b[0;34m\u001b[0m\u001b[0m\n\u001b[1;32m      5\u001b[0m     \u001b[0mpoints\u001b[0m \u001b[0;34m=\u001b[0m \u001b[0;34m[\u001b[0m\u001b[0;34m[\u001b[0m\u001b[0mpt\u001b[0m\u001b[0;34m.\u001b[0m\u001b[0mx\u001b[0m\u001b[0;34m,\u001b[0m \u001b[0mpt\u001b[0m\u001b[0;34m.\u001b[0m\u001b[0my\u001b[0m\u001b[0;34m,\u001b[0m \u001b[0mpt\u001b[0m\u001b[0;34m.\u001b[0m\u001b[0mz\u001b[0m\u001b[0;34m,\u001b[0m \u001b[0mpt\u001b[0m\u001b[0;34m.\u001b[0m\u001b[0me\u001b[0m\u001b[0;34m,\u001b[0m \u001b[0mpt\u001b[0m\u001b[0;34m.\u001b[0m\u001b[0mdedx\u001b[0m\u001b[0;34m]\u001b[0m \u001b[0;32mfor\u001b[0m \u001b[0mpt\u001b[0m \u001b[0;32min\u001b[0m \u001b[0mparticle\u001b[0m\u001b[0;34m.\u001b[0m\u001b[0mpcloud\u001b[0m\u001b[0;34m]\u001b[0m\u001b[0;34m\u001b[0m\u001b[0;34m\u001b[0m\u001b[0m\n",
      "\u001b[0;31mNameError\u001b[0m: name 'input_data' is not defined"
     ]
    }
   ],
   "source": [
    "points_array = []\n",
    "\n",
    "for particle in input_data:\n",
    "\n",
    "    points = [[pt.x, pt.y, pt.z, pt.e, pt.dedx] for pt in particle.pcloud]\n",
    "    \n",
    "    if len(points) < 1: continue\n",
    "    \n",
    "    points_array.append(np.array(points))\n",
    "\n",
    "# Concatenate a list of points for all particles\n",
    "points = np.concatenate(points_array)\n",
    "\n",
    "print('Total:',len(points),'points',np.sum(points[:,3]),' MeV for',input_data.size(),'particles')\n",
    "\n",
    "# Create a scatter plot with associated energy in MeV as hovertext\n",
    "trace = go.Scatter3d(x=points[:,0], y=points[:,1], z=points[:,2],\n",
    "                     mode='markers',\n",
    "                     marker=dict(size=1, color=points[:,3], opacity=0.3),\n",
    "                     hovertext=['%f MeV' % pt[3] for pt in points]                      \n",
    "                    )\n",
    "fig = go.Figure(data=trace)\n",
    "fig.show()"
   ]
  },
  {
   "cell_type": "markdown",
   "id": "f5a0275f",
   "metadata": {},
   "source": [
    "... or distinguishing each particle by a color? Let's only plot particles with some size."
   ]
  },
  {
   "cell_type": "code",
   "execution_count": 11,
   "id": "fc8a7c06",
   "metadata": {},
   "outputs": [
    {
     "ename": "NameError",
     "evalue": "name 'input_data' is not defined",
     "output_type": "error",
     "traceback": [
      "\u001b[0;31m---------------------------------------------------------------------------\u001b[0m",
      "\u001b[0;31mNameError\u001b[0m                                 Traceback (most recent call last)",
      "\u001b[0;32m/tmp/ipykernel_38953/3739840750.py\u001b[0m in \u001b[0;36m<module>\u001b[0;34m\u001b[0m\n\u001b[1;32m      5\u001b[0m \u001b[0mminimum_point_count\u001b[0m \u001b[0;34m=\u001b[0m \u001b[0;36m100\u001b[0m\u001b[0;34m\u001b[0m\u001b[0;34m\u001b[0m\u001b[0m\n\u001b[1;32m      6\u001b[0m \u001b[0;34m\u001b[0m\u001b[0m\n\u001b[0;32m----> 7\u001b[0;31m \u001b[0;32mfor\u001b[0m \u001b[0mparticle\u001b[0m \u001b[0;32min\u001b[0m \u001b[0minput_data\u001b[0m\u001b[0;34m:\u001b[0m\u001b[0;34m\u001b[0m\u001b[0;34m\u001b[0m\u001b[0m\n\u001b[0m\u001b[1;32m      8\u001b[0m \u001b[0;34m\u001b[0m\u001b[0m\n\u001b[1;32m      9\u001b[0m     \u001b[0mpoints\u001b[0m \u001b[0;34m=\u001b[0m \u001b[0;34m[\u001b[0m\u001b[0;34m[\u001b[0m\u001b[0mpt\u001b[0m\u001b[0;34m.\u001b[0m\u001b[0mx\u001b[0m\u001b[0;34m,\u001b[0m \u001b[0mpt\u001b[0m\u001b[0;34m.\u001b[0m\u001b[0my\u001b[0m\u001b[0;34m,\u001b[0m \u001b[0mpt\u001b[0m\u001b[0;34m.\u001b[0m\u001b[0mz\u001b[0m\u001b[0;34m,\u001b[0m \u001b[0mpt\u001b[0m\u001b[0;34m.\u001b[0m\u001b[0me\u001b[0m\u001b[0;34m,\u001b[0m \u001b[0mpt\u001b[0m\u001b[0;34m.\u001b[0m\u001b[0mdedx\u001b[0m\u001b[0;34m]\u001b[0m \u001b[0;32mfor\u001b[0m \u001b[0mpt\u001b[0m \u001b[0;32min\u001b[0m \u001b[0mparticle\u001b[0m\u001b[0;34m.\u001b[0m\u001b[0mpcloud\u001b[0m\u001b[0;34m]\u001b[0m\u001b[0;34m\u001b[0m\u001b[0;34m\u001b[0m\u001b[0m\n",
      "\u001b[0;31mNameError\u001b[0m: name 'input_data' is not defined"
     ]
    }
   ],
   "source": [
    "import plotly\n",
    "colors = plotly.colors.qualitative.Light24\n",
    "\n",
    "traces = []\n",
    "minimum_point_count = 100\n",
    "\n",
    "for particle in input_data:\n",
    "\n",
    "    points = [[pt.x, pt.y, pt.z, pt.e, pt.dedx] for pt in particle.pcloud]\n",
    "    \n",
    "    if len(points) < minimum_point_count: continue\n",
    "        \n",
    "    points = np.array(points)\n",
    "    color  = colors[particle.part.trackid % len(colors)]\n",
    "        \n",
    "    traces.append(go.Scatter3d(x=points[:,0],y=points[:,1],z=points[:,2],\n",
    "                               mode='markers',\n",
    "                               name='TID %d PDG %d' % (particle.part.trackid,particle.part.pdg),\n",
    "                               marker=dict(size=1,color=color,opacity=0.3),\n",
    "                               hovertext=['EDep %f' % pt[3] for pt in points],\n",
    "                              )\n",
    "                 )\n",
    "    \n",
    "fig = go.Figure(data=traces)\n",
    "fig.show()"
   ]
  },
  {
   "cell_type": "markdown",
   "id": "f3dd603e",
   "metadata": {},
   "source": [
    "## Accessing and Interpreting the Ouput\n",
    "\n",
    "The output is defined and created by `SuperaAtomic` and there is nothing specific about `edep2supera`. But we can look at a few examples."
   ]
  },
  {
   "cell_type": "code",
   "execution_count": 12,
   "id": "e25de07f",
   "metadata": {},
   "outputs": [
    {
     "ename": "NameError",
     "evalue": "name 'label' is not defined",
     "output_type": "error",
     "traceback": [
      "\u001b[0;31m---------------------------------------------------------------------------\u001b[0m",
      "\u001b[0;31mNameError\u001b[0m                                 Traceback (most recent call last)",
      "\u001b[0;32m/tmp/ipykernel_38953/734976015.py\u001b[0m in \u001b[0;36m<module>\u001b[0;34m\u001b[0m\n\u001b[1;32m      1\u001b[0m \u001b[0;31m# Overall energy deposition is stored in _energies attribute\u001b[0m\u001b[0;34m\u001b[0m\u001b[0;34m\u001b[0m\u001b[0;34m\u001b[0m\u001b[0m\n\u001b[0;32m----> 2\u001b[0;31m \u001b[0mdata\u001b[0m \u001b[0;34m=\u001b[0m \u001b[0mlabel\u001b[0m\u001b[0;34m.\u001b[0m\u001b[0m_energies\u001b[0m\u001b[0;34m\u001b[0m\u001b[0;34m\u001b[0m\u001b[0m\n\u001b[0m\u001b[1;32m      3\u001b[0m \u001b[0;34m\u001b[0m\u001b[0m\n\u001b[1;32m      4\u001b[0m \u001b[0;31m# data is VoxelSet type, essentially an array of voxel ID and value = energy.\u001b[0m\u001b[0;34m\u001b[0m\u001b[0;34m\u001b[0m\u001b[0;34m\u001b[0m\u001b[0m\n\u001b[1;32m      5\u001b[0m \u001b[0;31m# We need to take an extra step to translate each voxel ID into XYZ coordinate\u001b[0m\u001b[0;34m\u001b[0m\u001b[0;34m\u001b[0m\u001b[0;34m\u001b[0m\u001b[0m\n",
      "\u001b[0;31mNameError\u001b[0m: name 'label' is not defined"
     ]
    }
   ],
   "source": [
    "# Overall energy deposition is stored in _energies attribute\n",
    "data = label._energies\n",
    "\n",
    "# data is VoxelSet type, essentially an array of voxel ID and value = energy.\n",
    "# We need to take an extra step to translate each voxel ID into XYZ coordinate\n",
    "xyz = [meta.position(vox.id()) for vox in data.as_vector()]\n",
    "xyz = [[pt.x, pt.y, pt.z] for pt in xyz]\n",
    "xyz = np.array(xyz)\n",
    "\n",
    "energy = [vox.value() for vox in data.as_vector()]\n",
    "energy = np.array(energy)\n",
    "\n",
    "trace = go.Scatter3d(x=xyz[:,0],y=xyz[:,1],z=xyz[:,2],\n",
    "                     mode='markers',\n",
    "                     marker=dict(size=1,color=energy,opacity=0.3),\n",
    "                    )\n",
    "fig = go.Figure(data=trace)\n",
    "fig.show()"
   ]
  },
  {
   "cell_type": "markdown",
   "id": "61b32a81",
   "metadata": {},
   "source": [
    "Perhaps let's access something unique to the output. An example is a _semantic label_, which is discrete categorization of pixel types. In the below example we ignore pixels of a type `kShapeLEScatter` which represents many small fragments of energy depositions. This allows us to more easily see the trunk of a shower."
   ]
  },
  {
   "cell_type": "code",
   "execution_count": 13,
   "id": "ecbce0f2",
   "metadata": {},
   "outputs": [
    {
     "ename": "NameError",
     "evalue": "name 'label' is not defined",
     "output_type": "error",
     "traceback": [
      "\u001b[0;31m---------------------------------------------------------------------------\u001b[0m",
      "\u001b[0;31mNameError\u001b[0m                                 Traceback (most recent call last)",
      "\u001b[0;32m/tmp/ipykernel_38953/2970451059.py\u001b[0m in \u001b[0;36m<module>\u001b[0;34m\u001b[0m\n\u001b[1;32m      3\u001b[0m \u001b[0;31m# semantic data is stored in an attribute _semanticLabels\u001b[0m\u001b[0;34m\u001b[0m\u001b[0;34m\u001b[0m\u001b[0;34m\u001b[0m\u001b[0m\n\u001b[1;32m      4\u001b[0m \u001b[0;31m# It is of VoxelSet type just like _energies.\u001b[0m\u001b[0;34m\u001b[0m\u001b[0;34m\u001b[0m\u001b[0;34m\u001b[0m\u001b[0m\n\u001b[0;32m----> 5\u001b[0;31m \u001b[0mdata\u001b[0m \u001b[0;34m=\u001b[0m \u001b[0mlabel\u001b[0m\u001b[0;34m.\u001b[0m\u001b[0m_semanticLabels\u001b[0m\u001b[0;34m\u001b[0m\u001b[0;34m\u001b[0m\u001b[0m\n\u001b[0m\u001b[1;32m      6\u001b[0m \u001b[0;34m\u001b[0m\u001b[0m\n\u001b[1;32m      7\u001b[0m \u001b[0msemantic\u001b[0m \u001b[0;34m=\u001b[0m \u001b[0;34m[\u001b[0m\u001b[0mvox\u001b[0m\u001b[0;34m.\u001b[0m\u001b[0mvalue\u001b[0m\u001b[0;34m(\u001b[0m\u001b[0;34m)\u001b[0m \u001b[0;32mfor\u001b[0m \u001b[0mvox\u001b[0m \u001b[0;32min\u001b[0m \u001b[0mlabel\u001b[0m\u001b[0;34m.\u001b[0m\u001b[0m_semanticLabels\u001b[0m\u001b[0;34m.\u001b[0m\u001b[0mas_vector\u001b[0m\u001b[0;34m(\u001b[0m\u001b[0;34m)\u001b[0m\u001b[0;34m]\u001b[0m\u001b[0;34m\u001b[0m\u001b[0;34m\u001b[0m\u001b[0m\n",
      "\u001b[0;31mNameError\u001b[0m: name 'label' is not defined"
     ]
    }
   ],
   "source": [
    "from ROOT import supera\n",
    "\n",
    "# semantic data is stored in an attribute _semanticLabels\n",
    "# It is of VoxelSet type just like _energies.\n",
    "data = label._semanticLabels\n",
    "\n",
    "semantic = [vox.value() for vox in label._semanticLabels.as_vector()]\n",
    "semantic = np.array(semantic).astype(np.int32)\n",
    "\n",
    "# Create a pixel mask\n",
    "mask = np.where(~(semantic==supera.kShapeLEScatter))\n",
    "# Use the same points (xyz and energy) but apply a mask\n",
    "trace = go.Scatter3d(x=xyz[mask][:,0],y=xyz[mask][:,1],z=xyz[mask][:,2],\n",
    "                     mode='markers',\n",
    "                     marker=dict(size=1,color=energy[mask],opacity=0.3),\n",
    "                    )\n",
    "fig = go.Figure(data=trace)\n",
    "fig.show()"
   ]
  },
  {
   "cell_type": "markdown",
   "id": "df0be80d",
   "metadata": {},
   "source": [
    "We can construct the same view from individual particle information that is also stored in the output. Each particle also stores a semantic type."
   ]
  },
  {
   "cell_type": "code",
   "execution_count": 14,
   "id": "7336495a",
   "metadata": {},
   "outputs": [
    {
     "ename": "NameError",
     "evalue": "name 'label' is not defined",
     "output_type": "error",
     "traceback": [
      "\u001b[0;31m---------------------------------------------------------------------------\u001b[0m",
      "\u001b[0;31mNameError\u001b[0m                                 Traceback (most recent call last)",
      "\u001b[0;32m/tmp/ipykernel_38953/747547614.py\u001b[0m in \u001b[0;36m<module>\u001b[0;34m\u001b[0m\n\u001b[1;32m      1\u001b[0m \u001b[0mtraces\u001b[0m \u001b[0;34m=\u001b[0m \u001b[0;34m[\u001b[0m\u001b[0;34m]\u001b[0m\u001b[0;34m\u001b[0m\u001b[0;34m\u001b[0m\u001b[0m\n\u001b[1;32m      2\u001b[0m \u001b[0;34m\u001b[0m\u001b[0m\n\u001b[0;32m----> 3\u001b[0;31m \u001b[0;32mfor\u001b[0m \u001b[0mparticle\u001b[0m \u001b[0;32min\u001b[0m \u001b[0mlabel\u001b[0m\u001b[0;34m.\u001b[0m\u001b[0mParticles\u001b[0m\u001b[0;34m(\u001b[0m\u001b[0;34m)\u001b[0m\u001b[0;34m:\u001b[0m\u001b[0;34m\u001b[0m\u001b[0;34m\u001b[0m\u001b[0m\n\u001b[0m\u001b[1;32m      4\u001b[0m \u001b[0;34m\u001b[0m\u001b[0m\n\u001b[1;32m      5\u001b[0m     \u001b[0;32mif\u001b[0m \u001b[0mparticle\u001b[0m\u001b[0;34m.\u001b[0m\u001b[0mpart\u001b[0m\u001b[0;34m.\u001b[0m\u001b[0mshape\u001b[0m \u001b[0;34m==\u001b[0m \u001b[0msupera\u001b[0m\u001b[0;34m.\u001b[0m\u001b[0mkShapeLEScatter\u001b[0m\u001b[0;34m:\u001b[0m\u001b[0;34m\u001b[0m\u001b[0;34m\u001b[0m\u001b[0m\n",
      "\u001b[0;31mNameError\u001b[0m: name 'label' is not defined"
     ]
    }
   ],
   "source": [
    "traces = []\n",
    "\n",
    "for particle in label.Particles():\n",
    "    \n",
    "    if particle.part.shape == supera.kShapeLEScatter:\n",
    "        continue\n",
    "        \n",
    "    color = colors[particle.part.id % len(colors)]        \n",
    "    data  = particle.energy\n",
    "    \n",
    "    xyz = [meta.position(vox.id()) for vox in data.as_vector()]\n",
    "    xyz = [[pt.x, pt.y, pt.z] for pt in xyz]\n",
    "    xyz = np.array(xyz)\n",
    "\n",
    "    energy = [vox.value() for vox in data.as_vector()]\n",
    "    energy = np.array(energy)\n",
    "\n",
    "    traces.append(go.Scatter3d(x=xyz[:,0],y=xyz[:,1],z=xyz[:,2],\n",
    "                               mode='markers',\n",
    "                               name='ID %d PDG %d' % (particle.part.id,particle.part.pdg),\n",
    "                               marker=dict(size=1,color=color,opacity=0.3),\n",
    "                              )\n",
    "                 )\n",
    "\n",
    "fig = go.Figure(data=traces)\n",
    "fig.show()"
   ]
  }
 ],
 "metadata": {
  "execution": {
   "timeout": 240
  },
  "jupytext": {
   "cell_metadata_filter": "-all",
   "formats": "md:myst",
   "text_representation": {
    "extension": ".md",
    "format_name": "myst",
    "format_version": 0.13,
    "jupytext_version": "1.10.3"
   }
  },
  "kernelspec": {
   "display_name": "Python 3",
   "language": "python",
   "name": "python3"
  },
  "language_info": {
   "codemirror_mode": {
    "name": "ipython",
    "version": 3
   },
   "file_extension": ".py",
   "mimetype": "text/x-python",
   "name": "python",
   "nbconvert_exporter": "python",
   "pygments_lexer": "ipython3",
   "version": "3.8.10"
  },
  "source_map": [
   16,
   34,
   37,
   41,
   56,
   70,
   75,
   81,
   83,
   90,
   101,
   107,
   117,
   122,
   124,
   132,
   141,
   147,
   166,
   168,
   192,
   194,
   220,
   225,
   244,
   248,
   267,
   271
  ]
 },
 "nbformat": 4,
 "nbformat_minor": 5
}