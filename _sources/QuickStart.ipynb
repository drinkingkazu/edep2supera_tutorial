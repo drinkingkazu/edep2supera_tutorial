{
 "cells": [
  {
   "cell_type": "markdown",
   "id": "d3fd1af0",
   "metadata": {},
   "source": [
    "# Quick Start\n",
    "With the right `edep-sim` file and the software environment, running `edep2supera` and generating a `larcv` file is simple. In this example we use a prepared example file which we download below."
   ]
  },
  {
   "cell_type": "code",
   "execution_count": 1,
   "id": "41fb2691",
   "metadata": {},
   "outputs": [
    {
     "name": "stdout",
     "output_type": "stream",
     "text": [
      "--2022-11-14 10:53:26--  https://web.stanford.edu/~kterao/edep-sim-example.root\r\n",
      "Resolving web.stanford.edu (web.stanford.edu)... 171.67.215.200, 2607:f6d0:0:925a::ab43:d7c8\r\n",
      "Connecting to web.stanford.edu (web.stanford.edu)|171.67.215.200|:443... connected.\r\n"
     ]
    },
    {
     "name": "stdout",
     "output_type": "stream",
     "text": [
      "HTTP request sent, awaiting response... 200 OK\r\n",
      "Length: 6604072 (6.3M)\r\n",
      "Saving to: 'edep-sim-example.root.3'\r\n",
      "\r\n",
      "\r",
      "edep-sim-example.ro   0%[                    ]       0  --.-KB/s               "
     ]
    },
    {
     "name": "stdout",
     "output_type": "stream",
     "text": [
      "\r",
      "edep-sim-example.ro  24%[===>                ]   1.52M  7.57MB/s               "
     ]
    },
    {
     "name": "stdout",
     "output_type": "stream",
     "text": [
      "\r",
      "edep-sim-example.ro  45%[========>           ]   2.88M  7.04MB/s               "
     ]
    },
    {
     "name": "stdout",
     "output_type": "stream",
     "text": [
      "\r",
      "edep-sim-example.ro  55%[==========>         ]   3.52M  5.76MB/s               "
     ]
    },
    {
     "name": "stdout",
     "output_type": "stream",
     "text": [
      "\r",
      "edep-sim-example.ro  67%[============>       ]   4.26M  5.22MB/s               "
     ]
    },
    {
     "name": "stdout",
     "output_type": "stream",
     "text": [
      "\r",
      "edep-sim-example.ro  86%[================>   ]   5.46M  5.37MB/s               "
     ]
    },
    {
     "name": "stdout",
     "output_type": "stream",
     "text": [
      "\r",
      "edep-sim-example.ro 100%[===================>]   6.30M  5.60MB/s    in 1.1s    \r\n",
      "\r\n",
      "2022-11-14 10:53:27 (5.60 MB/s) - 'edep-sim-example.root.3' saved [6604072/6604072]\r\n",
      "\r\n"
     ]
    }
   ],
   "source": [
    "! wget https://web.stanford.edu/~kterao/edep-sim-example.root"
   ]
  },
  {
   "cell_type": "markdown",
   "id": "21afd011",
   "metadata": {},
   "source": [
    "## Running `edep2supera`\n",
    "\n",
    "`edep2supera` installation should come with `run_edep2supera.py` executable. If you installed locally by `pip install --user`, make sure your local installation is exposed to `$PATH` (i.e. `export PATH=$HOME/.local/bin:$PATH`)"
   ]
  },
  {
   "cell_type": "code",
   "execution_count": 2,
   "id": "ad9f93f8",
   "metadata": {},
   "outputs": [
    {
     "name": "stdout",
     "output_type": "stream",
     "text": [
      "Usage: run_edep2supera.py $OUTPUT $INPUT1 [$INPUT2, $INPUT3, ...]\r\n",
      "    - $OUTPUT (required) ... the name of an output larcv file.\r\n",
      "    - $INPUT1 (required) ... the path to an input edep-sim root file.\r\n",
      "    - $INPUT2 (optional) ... the path to another input edep-sim root file.\r\n",
      "      repeat as many files you may have in the input.\r\n"
     ]
    }
   ],
   "source": [
    "! run_edep2supera.py"
   ]
  },
  {
   "cell_type": "markdown",
   "id": "8e385294",
   "metadata": {},
   "source": [
    "The first argument should be the output (`larcv`) filename to be created. The second argument should be the first `edep-sim` file to be converted. You can keep adding more arguments to add more `edep-sim` files."
   ]
  },
  {
   "cell_type": "code",
   "execution_count": 3,
   "id": "579cfa4d",
   "metadata": {},
   "outputs": [
    {
     "name": "stdout",
     "output_type": "stream",
     "text": [
      "Output file already exists: larcv.root\r\n"
     ]
    }
   ],
   "source": [
    "! run_edep2supera.py larcv.root edep-sim-example.root"
   ]
  },
  {
   "cell_type": "markdown",
   "id": "9473da3d",
   "metadata": {},
   "source": [
    "... and now you should have `larcv.root` :)"
   ]
  }
 ],
 "metadata": {
  "jupytext": {
   "cell_metadata_filter": "-all",
   "formats": "md:myst",
   "text_representation": {
    "extension": ".md",
    "format_name": "myst",
    "format_version": 0.13,
    "jupytext_version": "1.10.3"
   }
  },
  "kernelspec": {
   "display_name": "Python 3",
   "language": "python",
   "name": "python3"
  },
  "language_info": {
   "codemirror_mode": {
    "name": "ipython",
    "version": 3
   },
   "file_extension": ".py",
   "mimetype": "text/x-python",
   "name": "python",
   "nbconvert_exporter": "python",
   "pygments_lexer": "ipython3",
   "version": "3.8.10"
  },
  "source_map": [
   14,
   20,
   22,
   28,
   30,
   34,
   36
  ]
 },
 "nbformat": 4,
 "nbformat_minor": 5
}